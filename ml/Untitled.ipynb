{
 "cells": [
  {
   "cell_type": "code",
   "execution_count": 1,
   "id": "7eeff478-ee73-4e18-bb7d-79556f5a6c94",
   "metadata": {
    "tags": []
   },
   "outputs": [],
   "source": [
    "import pandas as pd\n",
    "df = pd.read_csv(\"./character_traits/owner_personality_data.csv\")\n",
    "df2 = pd.read_csv(\"./character_traits/seeker_personality_data.csv\")"
   ]
  },
  {
   "cell_type": "code",
   "execution_count": 3,
   "id": "71322d45-1c14-4f87-978a-0ab56e87d403",
   "metadata": {
    "tags": []
   },
   "outputs": [],
   "source": [
    "df3 = pd.concat([df, df2], ignore_index=True)"
   ]
  },
  {
   "cell_type": "code",
   "execution_count": 6,
   "id": "6fa4282c-97cd-4da4-b0f3-31ac47105bb0",
   "metadata": {
    "tags": []
   },
   "outputs": [
    {
     "data": {
      "text/html": [
       "<div>\n",
       "<style scoped>\n",
       "    .dataframe tbody tr th:only-of-type {\n",
       "        vertical-align: middle;\n",
       "    }\n",
       "\n",
       "    .dataframe tbody tr th {\n",
       "        vertical-align: top;\n",
       "    }\n",
       "\n",
       "    .dataframe thead th {\n",
       "        text-align: right;\n",
       "    }\n",
       "</style>\n",
       "<table border=\"1\" class=\"dataframe\">\n",
       "  <thead>\n",
       "    <tr style=\"text-align: right;\">\n",
       "      <th></th>\n",
       "      <th>personality_trait</th>\n",
       "      <th>value_belief</th>\n",
       "      <th>interpersonal_skill</th>\n",
       "      <th>work_ethic</th>\n",
       "    </tr>\n",
       "  </thead>\n",
       "  <tbody>\n",
       "    <tr>\n",
       "      <th>0</th>\n",
       "      <td>Humble</td>\n",
       "      <td>Tolerance</td>\n",
       "      <td>Patience</td>\n",
       "      <td>Adaptability</td>\n",
       "    </tr>\n",
       "    <tr>\n",
       "      <th>1</th>\n",
       "      <td>Independent</td>\n",
       "      <td>Loyalty</td>\n",
       "      <td>Leadership</td>\n",
       "      <td>Time management</td>\n",
       "    </tr>\n",
       "    <tr>\n",
       "      <th>2</th>\n",
       "      <td>Spontaneous</td>\n",
       "      <td>Equality</td>\n",
       "      <td>Networking</td>\n",
       "      <td>Independence</td>\n",
       "    </tr>\n",
       "    <tr>\n",
       "      <th>3</th>\n",
       "      <td>Humble</td>\n",
       "      <td>Respect</td>\n",
       "      <td>Negotiation</td>\n",
       "      <td>Perseverance</td>\n",
       "    </tr>\n",
       "    <tr>\n",
       "      <th>4</th>\n",
       "      <td>Analytical</td>\n",
       "      <td>Forgiveness</td>\n",
       "      <td>Social intelligence</td>\n",
       "      <td>Initiative</td>\n",
       "    </tr>\n",
       "    <tr>\n",
       "      <th>...</th>\n",
       "      <td>...</td>\n",
       "      <td>...</td>\n",
       "      <td>...</td>\n",
       "      <td>...</td>\n",
       "    </tr>\n",
       "    <tr>\n",
       "      <th>1995</th>\n",
       "      <td>Optimistic</td>\n",
       "      <td>Loyalty</td>\n",
       "      <td>Leadership</td>\n",
       "      <td>Motivation</td>\n",
       "    </tr>\n",
       "    <tr>\n",
       "      <th>1996</th>\n",
       "      <td>Humble</td>\n",
       "      <td>Spirituality</td>\n",
       "      <td>Diplomacy</td>\n",
       "      <td>Accountability</td>\n",
       "    </tr>\n",
       "    <tr>\n",
       "      <th>1997</th>\n",
       "      <td>Assertive</td>\n",
       "      <td>Justice</td>\n",
       "      <td>Negotiation</td>\n",
       "      <td>Perseverance</td>\n",
       "    </tr>\n",
       "    <tr>\n",
       "      <th>1998</th>\n",
       "      <td>Spontaneous</td>\n",
       "      <td>Forgiveness</td>\n",
       "      <td>Teamwork</td>\n",
       "      <td>Discipline</td>\n",
       "    </tr>\n",
       "    <tr>\n",
       "      <th>1999</th>\n",
       "      <td>NaN</td>\n",
       "      <td>NaN</td>\n",
       "      <td>NaN</td>\n",
       "      <td>NaN</td>\n",
       "    </tr>\n",
       "  </tbody>\n",
       "</table>\n",
       "<p>2000 rows × 4 columns</p>\n",
       "</div>"
      ],
      "text/plain": [
       "     personality_trait  value_belief  interpersonal_skill       work_ethic\n",
       "0               Humble     Tolerance             Patience     Adaptability\n",
       "1          Independent       Loyalty           Leadership  Time management\n",
       "2          Spontaneous      Equality           Networking     Independence\n",
       "3               Humble       Respect          Negotiation     Perseverance\n",
       "4           Analytical   Forgiveness  Social intelligence       Initiative\n",
       "...                ...           ...                  ...              ...\n",
       "1995        Optimistic       Loyalty           Leadership       Motivation\n",
       "1996            Humble  Spirituality            Diplomacy   Accountability\n",
       "1997         Assertive       Justice          Negotiation     Perseverance\n",
       "1998       Spontaneous   Forgiveness             Teamwork       Discipline\n",
       "1999               NaN           NaN                  NaN              NaN\n",
       "\n",
       "[2000 rows x 4 columns]"
      ]
     },
     "execution_count": 6,
     "metadata": {},
     "output_type": "execute_result"
    }
   ],
   "source": [
    "df3 = df3[[\"personality_trait\", \"value_belief\", \"interpersonal_skill\", \"work_ethic\"]]\n",
    "df3"
   ]
  },
  {
   "cell_type": "code",
   "execution_count": 12,
   "id": "a599407b-75a5-41de-8efa-5df6f3f0512d",
   "metadata": {
    "tags": []
   },
   "outputs": [
    {
     "name": "stdout",
     "output_type": "stream",
     "text": [
      "\"Humble\",\n",
      "\"Independent\",\n",
      "\"Spontaneous\",\n",
      "\"Analytical\",\n",
      "\"Sensitive\",\n",
      "\"Creative\",\n",
      "\"Ambitious\",\n",
      "\"Adventurous\",\n",
      "\"Confident\",\n",
      "\"Easygoing\",\n",
      "\"Reserved\",\n",
      "\"Conscientious\",\n",
      "\"Extroverted\",\n",
      "\"Assertive\",\n",
      "\"Compassionate\",\n",
      "\"Optimistic\",\n",
      "\"Introverted\",\n",
      "\"Pessimistic\",\n",
      "\"Outgoing\",\n",
      "\"Cautious\",\n",
      "\"nan\",\n"
     ]
    }
   ],
   "source": [
    "for v in df3.personality_trait.unique():\n",
    "    print(f'\"{v}\",')"
   ]
  },
  {
   "cell_type": "code",
   "execution_count": 14,
   "id": "ca67284b-266d-40ba-af3e-eb9091396e85",
   "metadata": {
    "tags": []
   },
   "outputs": [
    {
     "name": "stdout",
     "output_type": "stream",
     "text": [
      "\"Tolerance\",\n",
      "\"Loyalty\",\n",
      "\"Equality\",\n",
      "\"Respect\",\n",
      "\"Forgiveness\",\n",
      "\"Gratitude\",\n",
      "\"Integrity\",\n",
      "\"Humility\",\n",
      "\"Spirituality\",\n",
      "\"Responsibility\",\n",
      "\"Environmentalism\",\n",
      "\"Compassion\",\n",
      "\"Justice\",\n",
      "\"Empathy\",\n",
      "\"Freedom\",\n",
      "\"Honesty\",\n",
      "\"Courage\",\n",
      "\"Generosity\",\n",
      "\"Innovation\",\n",
      "\"Tradition\",\n",
      "\"nan\",\n"
     ]
    }
   ],
   "source": [
    "for v in df3.value_belief.unique():\n",
    "    print(f'\"{v}\",')"
   ]
  },
  {
   "cell_type": "code",
   "execution_count": 16,
   "id": "5c1913ae-be9c-45d4-be22-eb6827724325",
   "metadata": {
    "tags": []
   },
   "outputs": [
    {
     "name": "stdout",
     "output_type": "stream",
     "text": [
      "\"Patience\",\n",
      "\"Leadership\",\n",
      "\"Networking\",\n",
      "\"Negotiation\",\n",
      "\"Social intelligence\",\n",
      "\"Assertiveness\",\n",
      "\"Tact\",\n",
      "\"Active listening\",\n",
      "\"Feedback acceptance\",\n",
      "\"Empathy\",\n",
      "\"Adaptability\",\n",
      "\"Diplomacy\",\n",
      "\"Communication\",\n",
      "\"Relationship-building\",\n",
      "\"Cultural sensitivity\",\n",
      "\"Collaboration\",\n",
      "\"Persuasion\",\n",
      "\"Teamwork\",\n",
      "\"Flexibility\",\n",
      "\"Conflict resolution\",\n",
      "\"nan\",\n"
     ]
    }
   ],
   "source": [
    "for v in df3.interpersonal_skill.unique():\n",
    "    print(f'\"{v}\",')"
   ]
  },
  {
   "cell_type": "code",
   "execution_count": 18,
   "id": "6ca3d791-56b0-4aeb-b585-d64c048b5764",
   "metadata": {
    "tags": []
   },
   "outputs": [
    {
     "name": "stdout",
     "output_type": "stream",
     "text": [
      "\"Adaptability\",\n",
      "\"Time management\",\n",
      "\"Independence\",\n",
      "\"Perseverance\",\n",
      "\"Initiative\",\n",
      "\"Motivation\",\n",
      "\"Efficiency\",\n",
      "\"Commitment\",\n",
      "\"Resourcefulness\",\n",
      "\"Consistency\",\n",
      "\"Discipline\",\n",
      "\"Professionalism\",\n",
      "\"Reliability\",\n",
      "\"Focus\",\n",
      "\"Resilience\",\n",
      "\"Diligence\",\n",
      "\"Organization\",\n",
      "\"Goal-oriented\",\n",
      "\"Ethical conduct\",\n",
      "\"Accountability\",\n",
      "\"nan\",\n"
     ]
    }
   ],
   "source": [
    "for v in df3.work_ethic.unique():\n",
    "    print(f'\"{v}\",')"
   ]
  }
 ],
 "metadata": {
  "kernelspec": {
   "display_name": "Python 3 (ipykernel)",
   "language": "python",
   "name": "python3"
  },
  "language_info": {
   "codemirror_mode": {
    "name": "ipython",
    "version": 3
   },
   "file_extension": ".py",
   "mimetype": "text/x-python",
   "name": "python",
   "nbconvert_exporter": "python",
   "pygments_lexer": "ipython3",
   "version": "3.11.3"
  }
 },
 "nbformat": 4,
 "nbformat_minor": 5
}
