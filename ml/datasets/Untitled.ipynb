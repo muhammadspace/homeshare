{
 "cells": [
  {
   "cell_type": "code",
   "execution_count": 21,
   "id": "7eeff478-ee73-4e18-bb7d-79556f5a6c94",
   "metadata": {
    "tags": []
   },
   "outputs": [],
   "source": [
    "import pandas as pd\n",
    "df = pd.read_csv(\"interests_large.csv\")\n",
    "df2 = pd.read_csv(\"seekers_large.csv\")"
   ]
  },
  {
   "cell_type": "code",
   "execution_count": 38,
   "id": "71322d45-1c14-4f87-978a-0ab56e87d403",
   "metadata": {
    "tags": []
   },
   "outputs": [],
   "source": [
    "df3 = pd.concat([df, df2], ignore_index=True)"
   ]
  },
  {
   "cell_type": "code",
   "execution_count": 62,
   "id": "a599407b-75a5-41de-8efa-5df6f3f0512d",
   "metadata": {
    "tags": []
   },
   "outputs": [
    {
     "name": "stdout",
     "output_type": "stream",
     "text": [
      "\"Software Engineer\",\n",
      "\"Teacher\",\n",
      "\"Graphic Designer\",\n",
      "\"Chef\",\n",
      "\"Electrician\",\n",
      "\"Financial Analyst\",\n",
      "\"Writer\",\n",
      "\"Marketing Specialist\",\n",
      "\"Accountant\",\n",
      "\"Doctor\",\n",
      "\"Nurse\",\n",
      "\"HR Manager\",\n",
      "\"Data Scientist\",\n",
      "\"Mechanic\",\n",
      "\"Artist\",\n"
     ]
    }
   ],
   "source": [
    "for v in df3.job.unique():\n",
    "    print(f'\"{v}\",')"
   ]
  }
 ],
 "metadata": {
  "kernelspec": {
   "display_name": "Python 3 (ipykernel)",
   "language": "python",
   "name": "python3"
  },
  "language_info": {
   "codemirror_mode": {
    "name": "ipython",
    "version": 3
   },
   "file_extension": ".py",
   "mimetype": "text/x-python",
   "name": "python",
   "nbconvert_exporter": "python",
   "pygments_lexer": "ipython3",
   "version": "3.11.3"
  }
 },
 "nbformat": 4,
 "nbformat_minor": 5
}
